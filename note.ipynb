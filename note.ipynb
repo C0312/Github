{
 "cells": [
  {
   "cell_type": "markdown",
   "metadata": {},
   "source": [
    "# 笔记\n",
    "## opencv\n",
    "### 图片处理\n",
    "先以rgb文件打开，之后提取颜色通道，之后再转成灰度图，进行渲染成二值图\n",
    "\n",
    "颜色通道：相减：可以使想要的颜色更明显"
   ]
  }
 ],
 "metadata": {
  "language_info": {
   "name": "python"
  },
  "orig_nbformat": 4
 },
 "nbformat": 4,
 "nbformat_minor": 2
}
