{
 "cells": [
  {
   "cell_type": "code",
   "execution_count": null,
   "metadata": {},
   "outputs": [],
   "source": [
    "import cv2 as cv\n",
    "import numpy as np\n",
    "import matplotlib.pyplot as plt\n",
    "img=cv.imread(\"./sample2.png\")\n",
    "tmp=img.copy()\n",
    "tmp1=img.copy()\n",
    "plt.figure(figsize=(12,8))\n",
    "# plt.subplot(2,2,1)\n",
    "# b=img[:,:,0]\n",
    "# plt.imshow(b,cmap=\"gray\")\n",
    "# plt.title(\"b\")\n",
    "\n",
    "# plt.subplot(2,2,2)\n",
    "# g=img[:,:,1]\n",
    "# plt.imshow(g,cmap=\"gray\")\n",
    "# plt.title(\"g\")\n",
    "\n",
    "# plt.subplot(2,2,3)\n",
    "# r=img[:,:,2]\n",
    "# plt.imshow(r,cmap=\"gray\")\n",
    "# plt.title(\"r\")\n",
    "\n",
    "# plt.subplot(2,2,4)\n",
    "# sub=cv.subtract(b,r)\n",
    "# sub=cv.subtract(sub,g)\n",
    "# plt.imshow(sub,cmap=\"gray\")\n",
    "# plt.title(\"sub\")\n",
    "\n",
    "# plt.show()\n",
    "\n",
    "gray=cv.cvtColor(img,cv.COLOR_BGR2GRAY)\n",
    "ret,thresh=cv.threshold(gray,150,255,cv.THRESH_BINARY)\n",
    "plt.subplot(2,2,1)\n",
    "plt.imshow(thresh,cmap=\"gray\")\n",
    "plt.title(\"org\")\n",
    "\n",
    "kernel=np.ones((3,3),np.uint8)\n",
    "plt.subplot(2,2,2)\n",
    "erosion = cv.erode(thresh, kernel, iterations = 1)\n",
    "test=cv.dilate(erosion,kernel,iterations = 1)\n",
    "test=cv.erode(test, kernel, iterations = 1)\n",
    "plt.imshow(erosion,cmap=\"gray\")\n",
    "plt.title(\"ero\")\n",
    "\n",
    "plt.subplot(2,2,3)\n",
    "dilation=cv.dilate(thresh,kernel,iterations = 1)\n",
    "plt.imshow(dilation,cmap=\"gray\")\n",
    "plt.title(\"dil\")\n",
    "\n",
    "plt.subplot(2,2,4)\n",
    "dilation=cv.dilate(test,kernel,iterations=9)\n",
    "dilation=cv.erode(dilation, kernel, iterations = 19)\n",
    "plt.imshow(dilation,cmap=\"gray\")\n",
    "plt.title(\"dil2\")\n",
    "\n",
    "plt.show()\n"
   ]
  },
  {
   "cell_type": "markdown",
   "metadata": {},
   "source": [
    "预处理"
   ]
  },
  {
   "cell_type": "code",
   "execution_count": null,
   "metadata": {},
   "outputs": [],
   "source": [
    "# contours, hierarchy = cv.findContours(thresh, cv.RETR_TREE, cv.CHAIN_APPROX_SIMPLE)\n",
    "# cv.drawContours(tmp,contours,-1,(0,0,255),2)\n",
    "# cv.imshow(\"contours\",img)\n",
    "# cv.waitKey(0)\n",
    "# cv.destroyAllWindows()"
   ]
  },
  {
   "cell_type": "markdown",
   "metadata": {},
   "source": [
    "筛选：面积（轮廓面积，边界矩形）、长宽比、拟合椭圆的角度、"
   ]
  },
  {
   "cell_type": "code",
   "execution_count": null,
   "metadata": {},
   "outputs": [],
   "source": [
    "# contours,hierarchy=cv.findContours(dilation,cv.RETR_TREE,cv.CHAIN_APPROX_SIMPLE)\n",
    "# cnt=0\n",
    "# max=0\n",
    "# save=0\n",
    "# for i in contours:\n",
    "#     area=cv.contourArea(i)\n",
    "#     if area>max:\n",
    "#         save=cnt\n",
    "#         max=area\n",
    "#     cnt+=1\n",
    "\n",
    "# rect = cv.minAreaRect(contours[save])\n",
    "# box = cv.boxPoints(rect)\n",
    "# box = np.int0(box)\n",
    "\n",
    "\n",
    "# cv.circle(tmp1,(int(rect[0][0]),int(rect[0][1])),2,(0,0,255),-1)\n",
    "# cv.drawContours(tmp1,[box],0,(0,0,255),2)  \n",
    "# cv.imshow(\"result\",tmp1)\n",
    "# cv.waitKey(0)\n",
    "# cv.destroyAllWindows()\n"
   ]
  },
  {
   "cell_type": "markdown",
   "metadata": {},
   "source": [
    "边界矩形"
   ]
  },
  {
   "cell_type": "code",
   "execution_count": null,
   "metadata": {},
   "outputs": [],
   "source": [
    "contours,hierarchy=cv.findContours(dilation,cv.RETR_TREE,cv.CHAIN_APPROX_SIMPLE)\n",
    "cnt=0\n",
    "max=0\n",
    "save=0\n",
    "for i in contours:\n",
    "    area=cv.contourArea(i)\n",
    "    if area>max:\n",
    "        save=cnt\n",
    "        max=area\n",
    "    cnt+=1\n",
    "\n",
    "\n",
    "(x,y),radius = cv.minEnclosingCircle(contours[save])\n",
    "center = (int(x),int(y))\n",
    "radius = int(radius)\n",
    "cv.circle(tmp1,center,radius,(0,0,255),2)\n",
    "cv.circle(tmp1,center,2,(0,0,255),-1)\n",
    "cv.imshow(\"result\",tmp1)\n",
    "cv.waitKey(0)\n",
    "cv.destroyAllWindows()"
   ]
  },
  {
   "cell_type": "code",
   "execution_count": null,
   "metadata": {},
   "outputs": [],
   "source": [
    "# for cnt in contours:\n",
    "#     x,y,w,h=cv.boundingRect(cnt)\n",
    "#     font=cv.FONT_HERSHEY_SIMPLEX\n",
    "#     cv.putText(img,f'{int(w/h)}',(w,y),font,1,(0,0,255),1,cv.LINE_AA)\n",
    "\n",
    "#     cv.rectangle(tmp,(x,y),(x+w,y+h),(0,0,255))"
   ]
  },
  {
   "cell_type": "markdown",
   "metadata": {},
   "source": [
    "旋转矩形"
   ]
  },
  {
   "cell_type": "code",
   "execution_count": null,
   "metadata": {},
   "outputs": [],
   "source": [
    "# for cnt in contours:\n",
    "#     rect = cv.minAreaRect(cnt)\n",
    "#     box = cv.boxPoints(rect)\n",
    "#     box = np.int0(box)\n",
    "#     cv.drawContours(img,[box],0,(0,0,255),2)"
   ]
  },
  {
   "cell_type": "markdown",
   "metadata": {},
   "source": [
    "视频处理"
   ]
  },
  {
   "cell_type": "code",
   "execution_count": null,
   "metadata": {},
   "outputs": [],
   "source": [
    "cap = cv.VideoCapture('./video.MP4')\n",
    "\n",
    "while cap.isOpened():\n",
    "    ret, frame = cap.read()\n",
    "    frame= cv.resize(frame, (0, 0), fx=0.3, fy=0.3, interpolation=cv.INTER_CUBIC)\n",
    "    # 如果正确读取帧，ret为True\n",
    "    if not ret:\n",
    "        print(\"Can't receive frame (stream end?). Exiting ...\")\n",
    "        break\n",
    "    gray = cv.cvtColor(frame, cv.COLOR_BGR2GRAY)\n",
    "\n",
    "    ret,thresh=cv.threshold(gray,230,255,cv.THRESH_BINARY)\n",
    "    # thresh=cv.Canny(thresh,180,255)\n",
    "    kernel=np.ones((5,5),np.uint8)\n",
    "    dilation=cv.dilate(thresh,kernel,iterations=1)\n",
    "    erosion=cv.erode(dilation,kernel,iterations=3)\n",
    "    dilation=cv.dilate(erosion,kernel,iterations=3)\n",
    "    erosion=cv.erode(dilation,kernel,iterations=2)\n",
    "\n",
    "    contours,hierarchy=cv.findContours(dilation,cv.RETR_TREE,cv.CHAIN_APPROX_SIMPLE)\n",
    "    cnt=0\n",
    "    max=0\n",
    "    save=0\n",
    "    for i in contours:\n",
    "        area=cv.contourArea(i)\n",
    "        if area>max:\n",
    "            save=cnt\n",
    "            max=area\n",
    "        cnt+=1\n",
    "    if contours:\n",
    "        (x,y),radius = cv.minEnclosingCircle(contours[save])\n",
    "        center = (int(x),int(y))\n",
    "        radius = int(radius)\n",
    "        cv.circle(frame,center,radius,(0,0,255),2)\n",
    "        cv.circle(frame,center,2,(0,0,255),-1)\n",
    "    cv.imshow(\"gray\",erosion)  \n",
    "    cv.imshow(\"frame\",frame)\n",
    "    if cv.waitKey(1) == ord('q'):\n",
    "        break\n",
    "cap.release()\n",
    "cv.destroyAllWindows()"
   ]
  },
  {
   "cell_type": "markdown",
   "metadata": {},
   "source": []
  }
 ],
 "metadata": {
  "kernelspec": {
   "display_name": "opencv",
   "language": "python",
   "name": "python3"
  },
  "language_info": {
   "codemirror_mode": {
    "name": "ipython",
    "version": 3
   },
   "file_extension": ".py",
   "mimetype": "text/x-python",
   "name": "python",
   "nbconvert_exporter": "python",
   "pygments_lexer": "ipython3",
   "version": "3.8.17"
  },
  "orig_nbformat": 4
 },
 "nbformat": 4,
 "nbformat_minor": 2
}
